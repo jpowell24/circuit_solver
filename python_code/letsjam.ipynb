{
 "cells": [
  {
   "cell_type": "code",
   "execution_count": 1,
   "metadata": {},
   "outputs": [],
   "source": [
    "import numpy as np\n",
    "from numpy.linalg import matrix_power\n",
    "from numpy.linalg import inv\n",
    "\n",
    "import networkx as nx\n",
    "import matplotlib as plt"
   ]
  },
  {
   "cell_type": "code",
   "execution_count": 2,
   "metadata": {},
   "outputs": [],
   "source": [
    "#\n",
    "# V1 = 5 -- N1 -- R1 = 100 -- N2 -- R2 = 100 -- N3\n",
    "#\n",
    "#"
   ]
  },
  {
   "cell_type": "code",
   "execution_count": 3,
   "metadata": {},
   "outputs": [
    {
     "name": "stdout",
     "output_type": "stream",
     "text": [
      "[[ 0.e+00  0.e+00  2.e-01]\n",
      " [ 0.e+00  5.e+01  1.e-01]\n",
      " [ 2.e-01  1.e-01 -2.e-04]]\n",
      "[[0]\n",
      " [0]\n",
      " [5]]\n",
      "[[ 1.   ]\n",
      " [ 0.5  ]\n",
      " [-0.001]]\n"
     ]
    }
   ],
   "source": [
    "num_nodes = 2; \n",
    "num_sources = 1;  \n",
    "\n",
    "V1 = 5; \n",
    "R1 = 100; \n",
    "R2 = 100; \n",
    "\n",
    "G1 = 1 / R1; \n",
    "G2 = 1 / R2; \n",
    "\n",
    "G = np.zeros((num_nodes, num_nodes)); \n",
    "V = np.zeros((num_nodes, num_sources)); \n",
    "Z = np.zeros((num_sources, num_sources)); \n",
    "\n",
    "G[0,0] = G1; \n",
    "G[1,1] = G1 + G2; \n",
    "G[1,0] = -G1; \n",
    "G[0,1] = -G1; \n",
    "\n",
    "V[0,0] = V1; \n",
    "\n",
    "V_T = np.transpose(V); \n",
    "\n",
    "M_1 = np.concatenate((G, V), axis = 1); \n",
    "M_2 = np.concatenate((V_T, Z), axis = 1); \n",
    "\n",
    "M = np.concatenate((M_1, M_2), axis = 0); \n",
    "\n",
    "I_M = inv(np.matrix(M)); \n",
    "\n",
    "print(I_M)\n",
    "\n",
    "knowns = np.array([[0], [0], [V1]]); \n",
    "\n",
    "print(knowns)\n",
    "\n",
    "unknowns = I_M * knowns; \n",
    "\n",
    "print(unknowns); \n",
    "\n"
   ]
  }
 ],
 "metadata": {
  "kernelspec": {
   "display_name": "Python 3",
   "language": "python",
   "name": "python3"
  },
  "language_info": {
   "codemirror_mode": {
    "name": "ipython",
    "version": 3
   },
   "file_extension": ".py",
   "mimetype": "text/x-python",
   "name": "python",
   "nbconvert_exporter": "python",
   "pygments_lexer": "ipython3",
   "version": "3.9.6"
  }
 },
 "nbformat": 4,
 "nbformat_minor": 2
}
